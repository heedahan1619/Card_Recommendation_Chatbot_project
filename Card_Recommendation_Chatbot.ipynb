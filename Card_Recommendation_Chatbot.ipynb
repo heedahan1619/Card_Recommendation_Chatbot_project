{
 "cells": [
  {
   "cell_type": "markdown",
   "metadata": {},
   "source": [
    "# 카추 - 카드 상품 추천 챗봇"
   ]
  }
 ],
 "metadata": {
  "language_info": {
   "name": "python"
  }
 },
 "nbformat": 4,
 "nbformat_minor": 2
}
